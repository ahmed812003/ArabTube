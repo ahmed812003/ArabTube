{
  "nbformat": 4,
  "nbformat_minor": 0,
  "metadata": {
    "colab": {
      "provenance": []
    },
    "kernelspec": {
      "name": "python3",
      "display_name": "Python 3"
    },
    "language_info": {
      "name": "python"
    }
  },
  "cells": [
    {
      "cell_type": "code",
      "execution_count": 1,
      "metadata": {
        "id": "SE-StDck2HqV"
      },
      "outputs": [],
      "source": [
        "import joblib\n",
        "import numpy as np"
      ]
    },
    {
      "cell_type": "code",
      "source": [
        "clf = joblib.load(\"/content/hate_speech_model.h5\")\n",
        "cv = joblib.load(\"/content/tfidf_vectorizer.pkl\")"
      ],
      "metadata": {
        "id": "Rzk_XUXj2Io9"
      },
      "execution_count": 2,
      "outputs": []
    },
    {
      "cell_type": "code",
      "source": [
        "def predict(text):\n",
        "    transformed_text = cv.transform([text]).toarray()\n",
        "    prediction = clf.predict(transformed_text)\n",
        "    return prediction[0]"
      ],
      "metadata": {
        "id": "FGc7-bE42K0H"
      },
      "execution_count": 3,
      "outputs": []
    },
    {
      "cell_type": "code",
      "source": [
        "test_data = [\"I will kill you\", \"you are awesome\", \"you are bad i don't like you\",\n",
        "             \"I hate people from that country.\" , \"You are such a useless person.\" , \"Go back to where you came from\" ,\n",
        "             \"ou are so stupid and annoying.\" , \"Shut up, you idiot!\"]\n",
        "for text in test_data:\n",
        "    print(f\"Text: {text} -> Prediction: {predict(text)}\")"
      ],
      "metadata": {
        "colab": {
          "base_uri": "https://localhost:8080/"
        },
        "id": "yO91chmF2MXQ",
        "outputId": "18070f29-6922-43bc-a817-3c9f8598a9b2"
      },
      "execution_count": 4,
      "outputs": [
        {
          "output_type": "stream",
          "name": "stdout",
          "text": [
            "Text: I will kill you -> Prediction: Hate Speech Detected\n",
            "Text: you are awesome -> Prediction: No hate and offensive speech\n",
            "Text: you are bad i don't like you -> Prediction: Offensive language detected\n",
            "Text: I hate people from that country. -> Prediction: Offensive language detected\n",
            "Text: You are such a useless person. -> Prediction: Offensive language detected\n",
            "Text: Go back to where you came from -> Prediction: Offensive language detected\n",
            "Text: ou are so stupid and annoying. -> Prediction: Offensive language detected\n",
            "Text: Shut up, you idiot! -> Prediction: Offensive language detected\n"
          ]
        }
      ]
    }
  ]
}