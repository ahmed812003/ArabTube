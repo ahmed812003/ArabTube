{
  "cells": [
    {
      "cell_type": "markdown",
      "metadata": {
        "id": "lM5MUG4TzwDI"
      },
      "source": [
        "EXTRACT AUDIO FROM VIDEO\n"
      ]
    },
    {
      "cell_type": "code",
      "execution_count": 1,
      "metadata": {
        "id": "JdcwKtfzxulz"
      },
      "outputs": [],
      "source": [
        "from moviepy.editor import VideoFileClip"
      ]
    },
    {
      "cell_type": "code",
      "execution_count": 2,
      "metadata": {
        "id": "EOuFJVfIxzVI"
      },
      "outputs": [],
      "source": [
        "def extract_audio(video_path, audio_path):\n",
        "    video = VideoFileClip(video_path)\n",
        "    video.audio.write_audiofile(audio_path)"
      ]
    },
    {
      "cell_type": "code",
      "execution_count": 37,
      "metadata": {
        "colab": {
          "base_uri": "https://localhost:8080/"
        },
        "id": "QtkFvw_kx_F7",
        "outputId": "ffd6f9e4-9687-4e64-9950-d31dadb8800a"
      },
      "outputs": [
        {
          "name": "stdout",
          "output_type": "stream",
          "text": [
            "MoviePy - Writing audio in /content/extracted_audio.mp3\n"
          ]
        },
        {
          "name": "stderr",
          "output_type": "stream",
          "text": [
            "                                                                    "
          ]
        },
        {
          "name": "stdout",
          "output_type": "stream",
          "text": [
            "MoviePy - Done.\n"
          ]
        },
        {
          "name": "stderr",
          "output_type": "stream",
          "text": [
            "\r"
          ]
        }
      ],
      "source": [
        "video_path = \"/content/test.mp4\"\n",
        "audio_path = \"/content/extracted_audio.mp3\"\n",
        "extract_audio(video_path, audio_path)"
      ]
    },
    {
      "cell_type": "markdown",
      "metadata": {
        "id": "Wh2zCM_A2t6m"
      },
      "source": [
        "EXTRACT TEXT FROM VOICE"
      ]
    },
    {
      "cell_type": "code",
      "execution_count": null,
      "metadata": {
        "id": "oxnClbelsZgq"
      },
      "outputs": [],
      "source": [
        "!pip install git+https://github.com/openai/whisper.git"
      ]
    },
    {
      "cell_type": "code",
      "execution_count": 6,
      "metadata": {
        "id": "7jIT_y5RsdU4"
      },
      "outputs": [],
      "source": [
        "import whisper"
      ]
    },
    {
      "cell_type": "code",
      "execution_count": 42,
      "metadata": {
        "colab": {
          "base_uri": "https://localhost:8080/"
        },
        "id": "_sVE87ecsgnx",
        "outputId": "d962bc0f-b8e2-4aed-ef5b-40c3b194e023"
      },
      "outputs": [
        {
          "name": "stdout",
          "output_type": "stream",
          "text": [
            " You just answer. It's like a reflex. Do I look fat? No. Is she prettier than I am? No.\n"
          ]
        }
      ],
      "source": [
        "model = whisper.load_model(\"base\")\n",
        "result = model.transcribe(\"/content/extracted_audio.mp3\")\n",
        "transcribed_text = result[\"text\"]\n",
        "print(transcribed_text)"
      ]
    },
    {
      "cell_type": "markdown",
      "metadata": {
        "id": "7GNjym1ixHk7"
      },
      "source": [
        "PREDICT HATE SPEECH IN VIDEO"
      ]
    },
    {
      "cell_type": "code",
      "execution_count": 12,
      "metadata": {
        "id": "coFBxDmKxRVE"
      },
      "outputs": [],
      "source": [
        "import joblib\n",
        "import numpy as np"
      ]
    },
    {
      "cell_type": "code",
      "execution_count": 20,
      "metadata": {
        "id": "EnVNKbaRxkF8"
      },
      "outputs": [],
      "source": [
        "clf = joblib.load(\"/content/drive/MyDrive/hate_speech_model.h5\")\n",
        "cv = joblib.load(\"/content/tfidf_vectorizer.pkl\")"
      ]
    },
    {
      "cell_type": "code",
      "execution_count": 28,
      "metadata": {
        "id": "-bpqgM0Nxmqr"
      },
      "outputs": [],
      "source": [
        "def predict(text):\n",
        "    transformed_text = cv.transform([text]).toarray()\n",
        "    prediction = clf.predict(transformed_text)\n",
        "    return prediction[0]"
      ]
    },
    {
      "cell_type": "code",
      "execution_count": null,
      "metadata": {
        "colab": {
          "base_uri": "https://localhost:8080/",
          "height": 35
        },
        "id": "9HvZQcINxpLy",
        "outputId": "09b43efa-c1e2-4753-f966-06007f090ef7"
      },
      "outputs": [
        {
          "data": {
            "application/vnd.google.colaboratory.intrinsic+json": {
              "type": "string"
            },
            "text/plain": [
              "'Offensive language detected'"
            ]
          },
          "execution_count": 43,
          "metadata": {},
          "output_type": "execute_result"
        }
      ],
      "source": [
        "predict(transcribed_text)\n",
        "print(transcribed_text)"
      ]
    }
  ],
  "metadata": {
    "accelerator": "GPU",
    "colab": {
      "gpuType": "T4",
      "provenance": []
    },
    "kernelspec": {
      "display_name": "Python 3",
      "name": "python3"
    },
    "language_info": {
      "name": "python"
    }
  },
  "nbformat": 4,
  "nbformat_minor": 0
}
