{
  "nbformat": 4,
  "nbformat_minor": 0,
  "metadata": {
    "colab": {
      "provenance": []
    },
    "kernelspec": {
      "name": "python3",
      "display_name": "Python 3"
    },
    "language_info": {
      "name": "python"
    }
  },
  "cells": [
    {
      "cell_type": "code",
      "source": [
        "import pandas as pd\n",
        "import numpy as np\n",
        "from sklearn.feature_extraction.text import TfidfVectorizer\n",
        "from sklearn.model_selection import train_test_split, GridSearchCV, cross_val_score\n",
        "from sklearn.ensemble import RandomForestClassifier, VotingClassifier\n",
        "from sklearn.svm import SVC\n",
        "from sklearn.linear_model import LogisticRegression  # Add Logistic Regression\n",
        "from sklearn.metrics import accuracy_score, classification_report"
      ],
      "metadata": {
        "id": "lrsG339rpQMd"
      },
      "execution_count": 55,
      "outputs": []
    },
    {
      "cell_type": "code",
      "source": [
        "import re\n",
        "import nltk\n",
        "nltk.download('wordnet')\n",
        "from nltk.stem import WordNetLemmatizer\n",
        "from nltk.corpus import stopwords\n",
        "import string\n",
        "stopword = set(stopwords.words(\"english\"))\n",
        "import joblib\n",
        "from google.colab import files"
      ],
      "metadata": {
        "id": "uv7fO1jcp8uA",
        "colab": {
          "base_uri": "https://localhost:8080/"
        },
        "outputId": "0ba02b86-1535-49ab-8d51-fa8a0f2b6589"
      },
      "execution_count": 56,
      "outputs": [
        {
          "output_type": "stream",
          "name": "stderr",
          "text": [
            "[nltk_data] Downloading package wordnet to /root/nltk_data...\n",
            "[nltk_data]   Package wordnet is already up-to-date!\n"
          ]
        }
      ]
    },
    {
      "cell_type": "code",
      "source": [
        "df = pd.read_csv(\"/content/twitter_data.csv\")"
      ],
      "metadata": {
        "id": "dbBDUOnqqU33"
      },
      "execution_count": 57,
      "outputs": []
    },
    {
      "cell_type": "code",
      "source": [
        "df['labels'] = df['class'].map({0: \"Hate Speech Detected\", 1: \"Offensive language detected\", 2: \"No hate and offensive speech\"})"
      ],
      "metadata": {
        "id": "sQ-biGhbq9-D"
      },
      "execution_count": 58,
      "outputs": []
    },
    {
      "cell_type": "code",
      "source": [
        "df = df[['tweet', 'labels']]"
      ],
      "metadata": {
        "id": "cpjTxOzLrevr"
      },
      "execution_count": 59,
      "outputs": []
    },
    {
      "cell_type": "code",
      "source": [
        "lemmatizer = WordNetLemmatizer()\n",
        "\n",
        "def clean(text):\n",
        "    text = str(text).lower()\n",
        "    text = re.sub('\\[.*?\\]', '', text)\n",
        "    text = re.sub('https?://\\S+|www\\..S+', '', text)\n",
        "    text = re.sub('<.*?>+', '', text)\n",
        "    text = re.sub('[%s]' % re.escape(string.punctuation), '', text)\n",
        "    text = re.sub('\\n', '', text)\n",
        "    text = re.sub('\\w*\\d\\w*', '', text)\n",
        "    text = [word for word in text.split(' ') if word not in stopword]\n",
        "    text = \" \".join(text)\n",
        "    text = [lemmatizer.lemmatize(word) for word in text.split(' ')]\n",
        "    text = \" \".join(text)\n",
        "    return text\n",
        "\n",
        "df[\"tweet\"] = df[\"tweet\"].apply(clean)"
      ],
      "metadata": {
        "id": "075ZzAZssikf"
      },
      "execution_count": 60,
      "outputs": []
    },
    {
      "cell_type": "code",
      "source": [
        "tfidf = TfidfVectorizer(max_features=5000) # Add max_features for better performance\n",
        "x = tfidf.fit_transform(df[\"tweet\"])\n",
        "y = np.array(df[\"labels\"])\n",
        "\n",
        "# Split the data\n",
        "X_train, X_test, y_train, y_test = train_test_split(x, y, test_size=0.33, random_state=42)\n",
        "\n",
        "# Define the parameter grid for SVM\n",
        "param_grid = {\n",
        "    'C': [0.1, 1, 10, 100],\n",
        "    'kernel': ['linear', 'rbf'],\n",
        "    'gamma': ['scale', 'auto']\n",
        "}\n",
        "\n",
        "# Initialize GridSearchCV for SVM\n",
        "grid_svc = GridSearchCV(SVC(), param_grid, refit=True, verbose=2)\n",
        "grid_svc.fit(X_train, y_train)\n",
        "\n",
        "# Print the best parameters for SVM\n",
        "print(f\"Best Parameters for SVM: {grid_svc.best_params_}\")\n",
        "\n",
        "# Use the best estimator for SVM to make predictions\n",
        "best_svc = grid_svc.best_estimator_\n",
        "\n",
        "# Train a RandomForestClassifier\n",
        "rf_clf = RandomForestClassifier(n_estimators=100, random_state=42)\n",
        "rf_clf.fit(X_train, y_train)\n",
        "\n",
        "# Train a Logistic Regression model\n",
        "logreg_clf = LogisticRegression(max_iter=1000, random_state=42)  # Add Logistic Regression\n",
        "logreg_clf.fit(X_train, y_train)\n",
        "\n",
        "# Create an ensemble model with Logistic Regression\n",
        "ensemble_clf = VotingClassifier(estimators=[\n",
        "    ('svc', best_svc), ('rf', rf_clf), ('lr', logreg_clf)], voting='hard')  # Add lr to the ensemble\n",
        "ensemble_clf.fit(X_train, y_train)\n",
        "\n",
        "# Evaluate the ensemble model\n",
        "y_pred = ensemble_clf.predict(X_test)\n",
        "accuracy = accuracy_score(y_test, y_pred)\n",
        "print(f\"Ensemble Model Accuracy: {accuracy:.2f}\")\n",
        "\n",
        "# Print classification report for more detailed evaluation\n",
        "print(classification_report(y_test, y_pred))\n",
        "\n",
        "# Use cross-validation to validate the model\n",
        "cv_scores = cross_val_score(ensemble_clf, x, y, cv=5, scoring='accuracy')\n",
        "print(f\"Cross-validated Accuracy: {cv_scores.mean():.2f}\")"
      ],
      "metadata": {
        "colab": {
          "base_uri": "https://localhost:8080/"
        },
        "id": "EeQbmBSSua-6",
        "outputId": "ac34f74b-11b7-4691-b1cb-b8cdf8c75fe9"
      },
      "execution_count": 61,
      "outputs": [
        {
          "output_type": "stream",
          "name": "stdout",
          "text": [
            "Fitting 5 folds for each of 16 candidates, totalling 80 fits\n",
            "[CV] END ..................C=0.1, gamma=scale, kernel=linear; total time=  11.1s\n",
            "[CV] END ..................C=0.1, gamma=scale, kernel=linear; total time=  10.7s\n",
            "[CV] END ..................C=0.1, gamma=scale, kernel=linear; total time=  11.3s\n",
            "[CV] END ..................C=0.1, gamma=scale, kernel=linear; total time=  12.1s\n",
            "[CV] END ..................C=0.1, gamma=scale, kernel=linear; total time=  11.2s\n",
            "[CV] END .....................C=0.1, gamma=scale, kernel=rbf; total time=  18.1s\n",
            "[CV] END .....................C=0.1, gamma=scale, kernel=rbf; total time=  21.4s\n",
            "[CV] END .....................C=0.1, gamma=scale, kernel=rbf; total time=  18.1s\n",
            "[CV] END .....................C=0.1, gamma=scale, kernel=rbf; total time=  17.9s\n",
            "[CV] END .....................C=0.1, gamma=scale, kernel=rbf; total time=  18.6s\n",
            "[CV] END ...................C=0.1, gamma=auto, kernel=linear; total time=  10.9s\n",
            "[CV] END ...................C=0.1, gamma=auto, kernel=linear; total time=  12.3s\n",
            "[CV] END ...................C=0.1, gamma=auto, kernel=linear; total time=  11.5s\n",
            "[CV] END ...................C=0.1, gamma=auto, kernel=linear; total time=  11.4s\n",
            "[CV] END ...................C=0.1, gamma=auto, kernel=linear; total time=  11.5s\n",
            "[CV] END ......................C=0.1, gamma=auto, kernel=rbf; total time=  11.0s\n",
            "[CV] END ......................C=0.1, gamma=auto, kernel=rbf; total time=   9.4s\n",
            "[CV] END ......................C=0.1, gamma=auto, kernel=rbf; total time=  10.2s\n",
            "[CV] END ......................C=0.1, gamma=auto, kernel=rbf; total time=  10.1s\n",
            "[CV] END ......................C=0.1, gamma=auto, kernel=rbf; total time=   9.4s\n",
            "[CV] END ....................C=1, gamma=scale, kernel=linear; total time=   8.9s\n",
            "[CV] END ....................C=1, gamma=scale, kernel=linear; total time=   9.7s\n",
            "[CV] END ....................C=1, gamma=scale, kernel=linear; total time=   8.3s\n",
            "[CV] END ....................C=1, gamma=scale, kernel=linear; total time=   9.0s\n",
            "[CV] END ....................C=1, gamma=scale, kernel=linear; total time=   9.0s\n",
            "[CV] END .......................C=1, gamma=scale, kernel=rbf; total time=  17.1s\n",
            "[CV] END .......................C=1, gamma=scale, kernel=rbf; total time=  17.3s\n",
            "[CV] END .......................C=1, gamma=scale, kernel=rbf; total time=  18.1s\n",
            "[CV] END .......................C=1, gamma=scale, kernel=rbf; total time=  17.6s\n",
            "[CV] END .......................C=1, gamma=scale, kernel=rbf; total time=  18.2s\n",
            "[CV] END .....................C=1, gamma=auto, kernel=linear; total time=   9.0s\n",
            "[CV] END .....................C=1, gamma=auto, kernel=linear; total time=   8.4s\n",
            "[CV] END .....................C=1, gamma=auto, kernel=linear; total time=   9.1s\n",
            "[CV] END .....................C=1, gamma=auto, kernel=linear; total time=   8.7s\n",
            "[CV] END .....................C=1, gamma=auto, kernel=linear; total time=   8.7s\n",
            "[CV] END ........................C=1, gamma=auto, kernel=rbf; total time=  13.1s\n",
            "[CV] END ........................C=1, gamma=auto, kernel=rbf; total time=  13.6s\n",
            "[CV] END ........................C=1, gamma=auto, kernel=rbf; total time=  13.5s\n",
            "[CV] END ........................C=1, gamma=auto, kernel=rbf; total time=  13.1s\n",
            "[CV] END ........................C=1, gamma=auto, kernel=rbf; total time=  13.0s\n",
            "[CV] END ...................C=10, gamma=scale, kernel=linear; total time=  10.2s\n",
            "[CV] END ...................C=10, gamma=scale, kernel=linear; total time=   9.4s\n",
            "[CV] END ...................C=10, gamma=scale, kernel=linear; total time=   9.8s\n",
            "[CV] END ...................C=10, gamma=scale, kernel=linear; total time=   9.8s\n",
            "[CV] END ...................C=10, gamma=scale, kernel=linear; total time=   9.6s\n",
            "[CV] END ......................C=10, gamma=scale, kernel=rbf; total time=  26.0s\n",
            "[CV] END ......................C=10, gamma=scale, kernel=rbf; total time=  26.1s\n",
            "[CV] END ......................C=10, gamma=scale, kernel=rbf; total time=  26.7s\n",
            "[CV] END ......................C=10, gamma=scale, kernel=rbf; total time=  26.1s\n",
            "[CV] END ......................C=10, gamma=scale, kernel=rbf; total time=  26.4s\n",
            "[CV] END ....................C=10, gamma=auto, kernel=linear; total time=  10.0s\n",
            "[CV] END ....................C=10, gamma=auto, kernel=linear; total time=  10.1s\n",
            "[CV] END ....................C=10, gamma=auto, kernel=linear; total time=   9.6s\n",
            "[CV] END ....................C=10, gamma=auto, kernel=linear; total time=  10.1s\n",
            "[CV] END ....................C=10, gamma=auto, kernel=linear; total time=  11.2s\n",
            "[CV] END .......................C=10, gamma=auto, kernel=rbf; total time=  14.8s\n",
            "[CV] END .......................C=10, gamma=auto, kernel=rbf; total time=  14.1s\n",
            "[CV] END .......................C=10, gamma=auto, kernel=rbf; total time=  14.4s\n",
            "[CV] END .......................C=10, gamma=auto, kernel=rbf; total time=  14.3s\n",
            "[CV] END .......................C=10, gamma=auto, kernel=rbf; total time=  14.4s\n",
            "[CV] END ..................C=100, gamma=scale, kernel=linear; total time=  13.2s\n",
            "[CV] END ..................C=100, gamma=scale, kernel=linear; total time=  14.3s\n",
            "[CV] END ..................C=100, gamma=scale, kernel=linear; total time=  12.6s\n",
            "[CV] END ..................C=100, gamma=scale, kernel=linear; total time=  13.4s\n",
            "[CV] END ..................C=100, gamma=scale, kernel=linear; total time=  13.4s\n",
            "[CV] END .....................C=100, gamma=scale, kernel=rbf; total time=  25.3s\n",
            "[CV] END .....................C=100, gamma=scale, kernel=rbf; total time=  26.2s\n",
            "[CV] END .....................C=100, gamma=scale, kernel=rbf; total time=  26.9s\n",
            "[CV] END .....................C=100, gamma=scale, kernel=rbf; total time=  25.1s\n",
            "[CV] END .....................C=100, gamma=scale, kernel=rbf; total time=  25.8s\n",
            "[CV] END ...................C=100, gamma=auto, kernel=linear; total time=  13.4s\n",
            "[CV] END ...................C=100, gamma=auto, kernel=linear; total time=  14.3s\n",
            "[CV] END ...................C=100, gamma=auto, kernel=linear; total time=  13.0s\n",
            "[CV] END ...................C=100, gamma=auto, kernel=linear; total time=  13.9s\n",
            "[CV] END ...................C=100, gamma=auto, kernel=linear; total time=  13.8s\n",
            "[CV] END ......................C=100, gamma=auto, kernel=rbf; total time=  14.7s\n",
            "[CV] END ......................C=100, gamma=auto, kernel=rbf; total time=  13.6s\n",
            "[CV] END ......................C=100, gamma=auto, kernel=rbf; total time=  13.7s\n",
            "[CV] END ......................C=100, gamma=auto, kernel=rbf; total time=  13.6s\n",
            "[CV] END ......................C=100, gamma=auto, kernel=rbf; total time=  13.5s\n",
            "Best Parameters for SVM: {'C': 1, 'gamma': 'scale', 'kernel': 'linear'}\n",
            "Ensemble Model Accuracy: 0.90\n",
            "                              precision    recall  f1-score   support\n",
            "\n",
            "        Hate Speech Detected       0.59      0.14      0.23       465\n",
            "No hate and offensive speech       0.85      0.85      0.85      1379\n",
            " Offensive language detected       0.92      0.97      0.94      6335\n",
            "\n",
            "                    accuracy                           0.90      8179\n",
            "                   macro avg       0.79      0.65      0.67      8179\n",
            "                weighted avg       0.89      0.90      0.89      8179\n",
            "\n",
            "Cross-validated Accuracy: 0.90\n"
          ]
        }
      ]
    },
    {
      "cell_type": "code",
      "source": [
        "test_data = [\"I will kill you\", \"you are awesome\", \"you are bad i don't like you\",\n",
        "             \"I hate people from that country.\" , \"You are such a useless person.\" , \"Go back to where you came from\" ,\n",
        "             \"ou are so stupid and annoying.\" , \"Shut up, you idiot!\"]\n",
        "for text in test_data:\n",
        "    df = tfidf.transform([text]).toarray()\n",
        "    print(f\"Text: {text} -> Prediction: {ensemble_clf.predict(df)[0]}\")"
      ],
      "metadata": {
        "colab": {
          "base_uri": "https://localhost:8080/"
        },
        "id": "r2Ze5WdqvJZu",
        "outputId": "cdca2880-6cef-42ee-c66d-33f8a688f76e"
      },
      "execution_count": 62,
      "outputs": [
        {
          "output_type": "stream",
          "name": "stdout",
          "text": [
            "Text: I will kill you -> Prediction: Hate Speech Detected\n",
            "Text: you are awesome -> Prediction: No hate and offensive speech\n",
            "Text: you are bad i don't like you -> Prediction: Offensive language detected\n",
            "Text: I hate people from that country. -> Prediction: Offensive language detected\n",
            "Text: You are such a useless person. -> Prediction: Offensive language detected\n",
            "Text: Go back to where you came from -> Prediction: Offensive language detected\n",
            "Text: ou are so stupid and annoying. -> Prediction: Offensive language detected\n",
            "Text: Shut up, you idiot! -> Prediction: Offensive language detected\n"
          ]
        }
      ]
    },
    {
      "cell_type": "code",
      "source": [
        "joblib_file = \"hate_speech_model.h5\"\n",
        "joblib.dump(ensemble_clf, joblib_file)\n",
        "print(f\"Model saved to {joblib_file}\")\n",
        "\n",
        "# Save the TF-IDF Vectorizer\n",
        "tfidf_file = \"tfidf_vectorizer.pkl\"\n",
        "joblib.dump(tfidf, tfidf_file)\n",
        "print(f\"TF-IDF Vectorizer saved to {tfidf_file}\")\n",
        "\n",
        "files.download(joblib_file)\n",
        "files.download(tfidf_file)"
      ],
      "metadata": {
        "colab": {
          "base_uri": "https://localhost:8080/",
          "height": 52
        },
        "id": "PIJwqGIphwbo",
        "outputId": "e30b8339-e92a-4ced-97a9-1ddb23c4de3f"
      },
      "execution_count": 63,
      "outputs": [
        {
          "output_type": "stream",
          "name": "stdout",
          "text": [
            "Model saved to hate_speech_model.h5\n",
            "TF-IDF Vectorizer saved to tfidf_vectorizer.pkl\n"
          ]
        },
        {
          "output_type": "display_data",
          "data": {
            "text/plain": [
              "<IPython.core.display.Javascript object>"
            ],
            "application/javascript": [
              "\n",
              "    async function download(id, filename, size) {\n",
              "      if (!google.colab.kernel.accessAllowed) {\n",
              "        return;\n",
              "      }\n",
              "      const div = document.createElement('div');\n",
              "      const label = document.createElement('label');\n",
              "      label.textContent = `Downloading \"${filename}\": `;\n",
              "      div.appendChild(label);\n",
              "      const progress = document.createElement('progress');\n",
              "      progress.max = size;\n",
              "      div.appendChild(progress);\n",
              "      document.body.appendChild(div);\n",
              "\n",
              "      const buffers = [];\n",
              "      let downloaded = 0;\n",
              "\n",
              "      const channel = await google.colab.kernel.comms.open(id);\n",
              "      // Send a message to notify the kernel that we're ready.\n",
              "      channel.send({})\n",
              "\n",
              "      for await (const message of channel.messages) {\n",
              "        // Send a message to notify the kernel that we're ready.\n",
              "        channel.send({})\n",
              "        if (message.buffers) {\n",
              "          for (const buffer of message.buffers) {\n",
              "            buffers.push(buffer);\n",
              "            downloaded += buffer.byteLength;\n",
              "            progress.value = downloaded;\n",
              "          }\n",
              "        }\n",
              "      }\n",
              "      const blob = new Blob(buffers, {type: 'application/binary'});\n",
              "      const a = document.createElement('a');\n",
              "      a.href = window.URL.createObjectURL(blob);\n",
              "      a.download = filename;\n",
              "      div.appendChild(a);\n",
              "      a.click();\n",
              "      div.remove();\n",
              "    }\n",
              "  "
            ]
          },
          "metadata": {}
        },
        {
          "output_type": "display_data",
          "data": {
            "text/plain": [
              "<IPython.core.display.Javascript object>"
            ],
            "application/javascript": [
              "download(\"download_3a234bfc-59a9-41c4-b07e-0ac97e743805\", \"hate_speech_model.h5\", 102212577)"
            ]
          },
          "metadata": {}
        },
        {
          "output_type": "display_data",
          "data": {
            "text/plain": [
              "<IPython.core.display.Javascript object>"
            ],
            "application/javascript": [
              "\n",
              "    async function download(id, filename, size) {\n",
              "      if (!google.colab.kernel.accessAllowed) {\n",
              "        return;\n",
              "      }\n",
              "      const div = document.createElement('div');\n",
              "      const label = document.createElement('label');\n",
              "      label.textContent = `Downloading \"${filename}\": `;\n",
              "      div.appendChild(label);\n",
              "      const progress = document.createElement('progress');\n",
              "      progress.max = size;\n",
              "      div.appendChild(progress);\n",
              "      document.body.appendChild(div);\n",
              "\n",
              "      const buffers = [];\n",
              "      let downloaded = 0;\n",
              "\n",
              "      const channel = await google.colab.kernel.comms.open(id);\n",
              "      // Send a message to notify the kernel that we're ready.\n",
              "      channel.send({})\n",
              "\n",
              "      for await (const message of channel.messages) {\n",
              "        // Send a message to notify the kernel that we're ready.\n",
              "        channel.send({})\n",
              "        if (message.buffers) {\n",
              "          for (const buffer of message.buffers) {\n",
              "            buffers.push(buffer);\n",
              "            downloaded += buffer.byteLength;\n",
              "            progress.value = downloaded;\n",
              "          }\n",
              "        }\n",
              "      }\n",
              "      const blob = new Blob(buffers, {type: 'application/binary'});\n",
              "      const a = document.createElement('a');\n",
              "      a.href = window.URL.createObjectURL(blob);\n",
              "      a.download = filename;\n",
              "      div.appendChild(a);\n",
              "      a.click();\n",
              "      div.remove();\n",
              "    }\n",
              "  "
            ]
          },
          "metadata": {}
        },
        {
          "output_type": "display_data",
          "data": {
            "text/plain": [
              "<IPython.core.display.Javascript object>"
            ],
            "application/javascript": [
              "download(\"download_9dab3d14-17f3-4404-a1e9-2e7d20cd2b18\", \"tfidf_vectorizer.pkl\", 524294)"
            ]
          },
          "metadata": {}
        }
      ]
    }
  ]
}