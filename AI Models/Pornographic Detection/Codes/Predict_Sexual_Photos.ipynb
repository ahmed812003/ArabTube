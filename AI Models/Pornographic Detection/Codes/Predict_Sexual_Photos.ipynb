{
  "nbformat": 4,
  "nbformat_minor": 0,
  "metadata": {
    "colab": {
      "provenance": []
    },
    "kernelspec": {
      "name": "python3",
      "display_name": "Python 3"
    },
    "language_info": {
      "name": "python"
    }
  },
  "cells": [
    {
      "cell_type": "markdown",
      "source": [
        "INSTALL IMPOTANT LIBRARIES"
      ],
      "metadata": {
        "id": "zNH_kDWHOQCl"
      }
    },
    {
      "cell_type": "code",
      "execution_count": null,
      "metadata": {
        "id": "ceMYtowcN9Ym"
      },
      "outputs": [],
      "source": [
        "pip install --upgrade keras tensorflow"
      ]
    },
    {
      "cell_type": "code",
      "source": [
        "import cv2\n",
        "import os\n",
        "import shutil\n",
        "import numpy as np\n",
        "from tensorflow.keras.models import load_model"
      ],
      "metadata": {
        "id": "4I_in-I8OSEd"
      },
      "execution_count": 21,
      "outputs": []
    },
    {
      "cell_type": "markdown",
      "source": [
        "TEST MODEL"
      ],
      "metadata": {
        "id": "AK4ymYzROU3j"
      }
    },
    {
      "cell_type": "code",
      "source": [
        "model = load_model(\"/content/drive/MyDrive/best_model.keras\")"
      ],
      "metadata": {
        "id": "uS1tcDfiOUdn"
      },
      "execution_count": 16,
      "outputs": []
    },
    {
      "cell_type": "code",
      "source": [
        "# Function to preprocess frames\n",
        "def preprocess_frame(frame):\n",
        "    # Resize the frame to match the input size of the model\n",
        "    frame = cv2.resize(frame, (299, 299))\n",
        "    # Rescale pixel values to the range [0, 1]\n",
        "    frame = frame / 255.0\n",
        "    return frame"
      ],
      "metadata": {
        "id": "9yvHNrShOWul"
      },
      "execution_count": 17,
      "outputs": []
    },
    {
      "cell_type": "code",
      "source": [
        "def classify_frame(frame):\n",
        "    # Preprocess the frame\n",
        "    processed_frame = preprocess_frame(frame)\n",
        "    # Add batch dimension as the model expects batches of images\n",
        "    processed_frame = np.expand_dims(processed_frame, axis=0)\n",
        "    # Predict using the model\n",
        "    prediction = model.predict(processed_frame)\n",
        "    # Return the prediction\n",
        "    return prediction"
      ],
      "metadata": {
        "id": "3C8HGTN2Oca8"
      },
      "execution_count": 18,
      "outputs": []
    },
    {
      "cell_type": "code",
      "source": [
        "def extract_frames(photo_path, threshold=0.5):\n",
        "    sexual_frames , non_sexual_frames = 0 , 0\n",
        "    frame = cv2.imread(photo_path)\n",
        "    prediction = classify_frame(frame)\n",
        "    # Check if the prediction indicates pornography\n",
        "    if prediction[0][0] > threshold:\n",
        "        return False\n",
        "    else:\n",
        "        return True"
      ],
      "metadata": {
        "id": "48v0MCA6Ojhs"
      },
      "execution_count": 33,
      "outputs": []
    },
    {
      "cell_type": "code",
      "source": [
        "photo_path = r\"/content/test.jpg\"\n",
        "print(extract_frames(photo_path))"
      ],
      "metadata": {
        "colab": {
          "base_uri": "https://localhost:8080/"
        },
        "id": "cCVI1MNpO8ID",
        "outputId": "5888cd1f-57d5-484e-c4bd-c4b33a0aee3d"
      },
      "execution_count": 51,
      "outputs": [
        {
          "output_type": "stream",
          "name": "stdout",
          "text": [
            "\u001b[1m1/1\u001b[0m \u001b[32m━━━━━━━━━━━━━━━━━━━━\u001b[0m\u001b[37m\u001b[0m \u001b[1m0s\u001b[0m 488ms/step\n",
            "True\n"
          ]
        }
      ]
    }
  ]
}